{
 "cells": [
  {
   "cell_type": "code",
   "execution_count": 1,
   "id": "0aca1895",
   "metadata": {
    "_cell_guid": "b1076dfc-b9ad-4769-8c92-a6c4dae69d19",
    "_uuid": "8f2839f25d086af736a60e9eeb907d3b93b6e0e5",
    "execution": {
     "iopub.execute_input": "2022-05-07T01:37:51.889985Z",
     "iopub.status.busy": "2022-05-07T01:37:51.887928Z",
     "iopub.status.idle": "2022-05-07T01:37:52.143879Z",
     "shell.execute_reply": "2022-05-07T01:37:52.144431Z",
     "shell.execute_reply.started": "2022-05-07T01:02:59.707734Z"
    },
    "papermill": {
     "duration": 0.288969,
     "end_time": "2022-05-07T01:37:52.144730",
     "exception": false,
     "start_time": "2022-05-07T01:37:51.855761",
     "status": "completed"
    },
    "tags": []
   },
   "outputs": [],
   "source": [
    "import os\n",
    "import numpy as np\n",
    "import pandas as pd\n",
    "\n",
    "\n",
    "df = pd.read_csv('/kaggle/input/geeksforgeeks-articles/articles.csv')\n",
    "df.dropna(inplace = True)"
   ]
  },
  {
   "cell_type": "code",
   "execution_count": 2,
   "id": "d9b64b4c",
   "metadata": {
    "execution": {
     "iopub.execute_input": "2022-05-07T01:37:52.199770Z",
     "iopub.status.busy": "2022-05-07T01:37:52.198716Z",
     "iopub.status.idle": "2022-05-07T01:37:52.221605Z",
     "shell.execute_reply": "2022-05-07T01:37:52.222138Z",
     "shell.execute_reply.started": "2022-05-07T01:02:59.882417Z"
    },
    "papermill": {
     "duration": 0.051658,
     "end_time": "2022-05-07T01:37:52.222314",
     "exception": false,
     "start_time": "2022-05-07T01:37:52.170656",
     "status": "completed"
    },
    "tags": []
   },
   "outputs": [
    {
     "data": {
      "text/html": [
       "<div>\n",
       "<style scoped>\n",
       "    .dataframe tbody tr th:only-of-type {\n",
       "        vertical-align: middle;\n",
       "    }\n",
       "\n",
       "    .dataframe tbody tr th {\n",
       "        vertical-align: top;\n",
       "    }\n",
       "\n",
       "    .dataframe thead th {\n",
       "        text-align: right;\n",
       "    }\n",
       "</style>\n",
       "<table border=\"1\" class=\"dataframe\">\n",
       "  <thead>\n",
       "    <tr style=\"text-align: right;\">\n",
       "      <th></th>\n",
       "      <th>title</th>\n",
       "      <th>author_id</th>\n",
       "      <th>last_updated</th>\n",
       "      <th>link</th>\n",
       "      <th>category</th>\n",
       "    </tr>\n",
       "  </thead>\n",
       "  <tbody>\n",
       "    <tr>\n",
       "      <th>0</th>\n",
       "      <td>5 Best Practices For Writing SQL Joins</td>\n",
       "      <td>priyankab14</td>\n",
       "      <td>21 Feb, 2022</td>\n",
       "      <td>https://www.geeksforgeeks.org/5-best-practices...</td>\n",
       "      <td>easy</td>\n",
       "    </tr>\n",
       "    <tr>\n",
       "      <th>1</th>\n",
       "      <td>Foundation CSS Dropdown Menu</td>\n",
       "      <td>ishankhandelwals</td>\n",
       "      <td>20 Feb, 2022</td>\n",
       "      <td>https://www.geeksforgeeks.org/foundation-css-d...</td>\n",
       "      <td>easy</td>\n",
       "    </tr>\n",
       "    <tr>\n",
       "      <th>2</th>\n",
       "      <td>Top 20 Excel Shortcuts That You Need To Know</td>\n",
       "      <td>priyankab14</td>\n",
       "      <td>17 Feb, 2022</td>\n",
       "      <td>https://www.geeksforgeeks.org/top-20-excel-sho...</td>\n",
       "      <td>easy</td>\n",
       "    </tr>\n",
       "    <tr>\n",
       "      <th>3</th>\n",
       "      <td>Servlet – Fetching Result</td>\n",
       "      <td>nishatiwari1719</td>\n",
       "      <td>17 Feb, 2022</td>\n",
       "      <td>https://www.geeksforgeeks.org/servlet-fetching...</td>\n",
       "      <td>easy</td>\n",
       "    </tr>\n",
       "    <tr>\n",
       "      <th>4</th>\n",
       "      <td>Suffix Sum Array</td>\n",
       "      <td>rohit768</td>\n",
       "      <td>21 Feb, 2022</td>\n",
       "      <td>https://www.geeksforgeeks.org/suffix-sum-array/</td>\n",
       "      <td>easy</td>\n",
       "    </tr>\n",
       "    <tr>\n",
       "      <th>...</th>\n",
       "      <td>...</td>\n",
       "      <td>...</td>\n",
       "      <td>...</td>\n",
       "      <td>...</td>\n",
       "      <td>...</td>\n",
       "    </tr>\n",
       "    <tr>\n",
       "      <th>34569</th>\n",
       "      <td>Data Structures | Queue | Question 11</td>\n",
       "      <td>GeeksforGeeks</td>\n",
       "      <td>28 Jun, 2021</td>\n",
       "      <td>https://www.geeksforgeeks.org/data-structures-...</td>\n",
       "      <td>expert</td>\n",
       "    </tr>\n",
       "    <tr>\n",
       "      <th>34570</th>\n",
       "      <td>Data Structures | Binary Trees | Question 1</td>\n",
       "      <td>GeeksforGeeks</td>\n",
       "      <td>28 Jun, 2021</td>\n",
       "      <td>https://www.geeksforgeeks.org/data-structures-...</td>\n",
       "      <td>expert</td>\n",
       "    </tr>\n",
       "    <tr>\n",
       "      <th>34571</th>\n",
       "      <td>Amazon Interview | Set 9</td>\n",
       "      <td>GeeksforGeeks</td>\n",
       "      <td>28 Apr, 2017</td>\n",
       "      <td>https://www.geeksforgeeks.org/amazon-interview...</td>\n",
       "      <td>expert</td>\n",
       "    </tr>\n",
       "    <tr>\n",
       "      <th>34572</th>\n",
       "      <td>Python Program for Rat in a Maze | Backtracking-2</td>\n",
       "      <td>GeeksforGeeks</td>\n",
       "      <td>02 Aug, 2021</td>\n",
       "      <td>https://www.geeksforgeeks.org/python-program-f...</td>\n",
       "      <td>expert</td>\n",
       "    </tr>\n",
       "    <tr>\n",
       "      <th>34573</th>\n",
       "      <td>Data Structures and Algorithms | Set 21</td>\n",
       "      <td>GeeksforGeeks</td>\n",
       "      <td>27 Mar, 2017</td>\n",
       "      <td>https://www.geeksforgeeks.org/data-structures-...</td>\n",
       "      <td>expert</td>\n",
       "    </tr>\n",
       "  </tbody>\n",
       "</table>\n",
       "<p>34551 rows × 5 columns</p>\n",
       "</div>"
      ],
      "text/plain": [
       "                                                   title         author_id  \\\n",
       "0                 5 Best Practices For Writing SQL Joins       priyankab14   \n",
       "1                           Foundation CSS Dropdown Menu  ishankhandelwals   \n",
       "2           Top 20 Excel Shortcuts That You Need To Know       priyankab14   \n",
       "3                              Servlet – Fetching Result   nishatiwari1719   \n",
       "4                                       Suffix Sum Array          rohit768   \n",
       "...                                                  ...               ...   \n",
       "34569              Data Structures | Queue | Question 11     GeeksforGeeks   \n",
       "34570        Data Structures | Binary Trees | Question 1     GeeksforGeeks   \n",
       "34571                           Amazon Interview | Set 9     GeeksforGeeks   \n",
       "34572  Python Program for Rat in a Maze | Backtracking-2     GeeksforGeeks   \n",
       "34573            Data Structures and Algorithms | Set 21     GeeksforGeeks   \n",
       "\n",
       "       last_updated                                               link  \\\n",
       "0      21 Feb, 2022  https://www.geeksforgeeks.org/5-best-practices...   \n",
       "1      20 Feb, 2022  https://www.geeksforgeeks.org/foundation-css-d...   \n",
       "2      17 Feb, 2022  https://www.geeksforgeeks.org/top-20-excel-sho...   \n",
       "3      17 Feb, 2022  https://www.geeksforgeeks.org/servlet-fetching...   \n",
       "4      21 Feb, 2022    https://www.geeksforgeeks.org/suffix-sum-array/   \n",
       "...             ...                                                ...   \n",
       "34569  28 Jun, 2021  https://www.geeksforgeeks.org/data-structures-...   \n",
       "34570  28 Jun, 2021  https://www.geeksforgeeks.org/data-structures-...   \n",
       "34571  28 Apr, 2017  https://www.geeksforgeeks.org/amazon-interview...   \n",
       "34572  02 Aug, 2021  https://www.geeksforgeeks.org/python-program-f...   \n",
       "34573  27 Mar, 2017  https://www.geeksforgeeks.org/data-structures-...   \n",
       "\n",
       "      category  \n",
       "0         easy  \n",
       "1         easy  \n",
       "2         easy  \n",
       "3         easy  \n",
       "4         easy  \n",
       "...        ...  \n",
       "34569   expert  \n",
       "34570   expert  \n",
       "34571   expert  \n",
       "34572   expert  \n",
       "34573   expert  \n",
       "\n",
       "[34551 rows x 5 columns]"
      ]
     },
     "execution_count": 2,
     "metadata": {},
     "output_type": "execute_result"
    }
   ],
   "source": [
    "df"
   ]
  },
  {
   "cell_type": "code",
   "execution_count": 3,
   "id": "54c91abc",
   "metadata": {
    "execution": {
     "iopub.execute_input": "2022-05-07T01:37:52.278710Z",
     "iopub.status.busy": "2022-05-07T01:37:52.277662Z",
     "iopub.status.idle": "2022-05-07T01:37:52.281172Z",
     "shell.execute_reply": "2022-05-07T01:37:52.281680Z",
     "shell.execute_reply.started": "2022-05-07T01:02:59.899659Z"
    },
    "papermill": {
     "duration": 0.033395,
     "end_time": "2022-05-07T01:37:52.281863",
     "exception": false,
     "start_time": "2022-05-07T01:37:52.248468",
     "status": "completed"
    },
    "tags": []
   },
   "outputs": [],
   "source": [
    "data=df.values"
   ]
  },
  {
   "cell_type": "markdown",
   "id": "0335f663",
   "metadata": {
    "papermill": {
     "duration": 0.026352,
     "end_time": "2022-05-07T01:37:52.334599",
     "exception": false,
     "start_time": "2022-05-07T01:37:52.308247",
     "status": "completed"
    },
    "tags": []
   },
   "source": [
    "## 1) How many authors do we have in the dataset?"
   ]
  },
  {
   "cell_type": "code",
   "execution_count": 4,
   "id": "ce2513e9",
   "metadata": {
    "execution": {
     "iopub.execute_input": "2022-05-07T01:37:52.390701Z",
     "iopub.status.busy": "2022-05-07T01:37:52.389690Z",
     "iopub.status.idle": "2022-05-07T01:37:52.415643Z",
     "shell.execute_reply": "2022-05-07T01:37:52.416152Z",
     "shell.execute_reply.started": "2022-05-07T01:02:59.912116Z"
    },
    "papermill": {
     "duration": 0.055825,
     "end_time": "2022-05-07T01:37:52.416333",
     "exception": false,
     "start_time": "2022-05-07T01:37:52.360508",
     "status": "completed"
    },
    "tags": []
   },
   "outputs": [
    {
     "name": "stdout",
     "output_type": "stream",
     "text": [
      "5589\n"
     ]
    }
   ],
   "source": [
    "author=[]\n",
    "for i in range(len(data)):\n",
    "    author.append(data[i][1])\n",
    "print(len(set(author)))    "
   ]
  },
  {
   "cell_type": "markdown",
   "id": "777e553f",
   "metadata": {
    "papermill": {
     "duration": 0.026201,
     "end_time": "2022-05-07T01:37:52.468959",
     "exception": false,
     "start_time": "2022-05-07T01:37:52.442758",
     "status": "completed"
    },
    "tags": []
   },
   "source": [
    "## 2) How many easy articles are publised on GeeksforGeeks?"
   ]
  },
  {
   "cell_type": "code",
   "execution_count": 5,
   "id": "c80f3180",
   "metadata": {
    "execution": {
     "iopub.execute_input": "2022-05-07T01:37:52.525619Z",
     "iopub.status.busy": "2022-05-07T01:37:52.524621Z",
     "iopub.status.idle": "2022-05-07T01:37:52.540083Z",
     "shell.execute_reply": "2022-05-07T01:37:52.540575Z",
     "shell.execute_reply.started": "2022-05-07T01:02:59.947818Z"
    },
    "papermill": {
     "duration": 0.045159,
     "end_time": "2022-05-07T01:37:52.540754",
     "exception": false,
     "start_time": "2022-05-07T01:37:52.495595",
     "status": "completed"
    },
    "tags": []
   },
   "outputs": [
    {
     "data": {
      "text/plain": [
       "9654"
      ]
     },
     "execution_count": 5,
     "metadata": {},
     "output_type": "execute_result"
    }
   ],
   "source": [
    "len(df[df['category']=='easy'])"
   ]
  },
  {
   "cell_type": "markdown",
   "id": "7dd3887b",
   "metadata": {
    "papermill": {
     "duration": 0.030983,
     "end_time": "2022-05-07T01:37:52.598248",
     "exception": false,
     "start_time": "2022-05-07T01:37:52.567265",
     "status": "completed"
    },
    "tags": []
   },
   "source": [
    "## 3) Which category is having most number of articles?"
   ]
  },
  {
   "cell_type": "code",
   "execution_count": 6,
   "id": "be00f5df",
   "metadata": {
    "execution": {
     "iopub.execute_input": "2022-05-07T01:37:52.678553Z",
     "iopub.status.busy": "2022-05-07T01:37:52.677793Z",
     "iopub.status.idle": "2022-05-07T01:37:52.698239Z",
     "shell.execute_reply": "2022-05-07T01:37:52.697371Z",
     "shell.execute_reply.started": "2022-05-07T01:02:59.962565Z"
    },
    "papermill": {
     "duration": 0.064095,
     "end_time": "2022-05-07T01:37:52.698456",
     "exception": false,
     "start_time": "2022-05-07T01:37:52.634361",
     "status": "completed"
    },
    "tags": []
   },
   "outputs": [
    {
     "data": {
      "text/plain": [
       "category\n",
       "medium    10431\n",
       "easy       9654\n",
       "basic      8140\n",
       "hard       4232\n",
       "expert     2094\n",
       "dtype: int64"
      ]
     },
     "execution_count": 6,
     "metadata": {},
     "output_type": "execute_result"
    }
   ],
   "source": [
    "df.groupby('category').size().sort_values(ascending=False).head()"
   ]
  },
  {
   "cell_type": "markdown",
   "id": "1efb3306",
   "metadata": {
    "papermill": {
     "duration": 0.033939,
     "end_time": "2022-05-07T01:37:52.765961",
     "exception": false,
     "start_time": "2022-05-07T01:37:52.732022",
     "status": "completed"
    },
    "tags": []
   },
   "source": [
    "### therefore, medium category is having most number of articles"
   ]
  },
  {
   "cell_type": "markdown",
   "id": "7d9f5610",
   "metadata": {
    "papermill": {
     "duration": 0.028606,
     "end_time": "2022-05-07T01:37:52.823677",
     "exception": false,
     "start_time": "2022-05-07T01:37:52.795071",
     "status": "completed"
    },
    "tags": []
   },
   "source": [
    "## 4) What percent of articles are in expert category out of total number of articles?"
   ]
  },
  {
   "cell_type": "code",
   "execution_count": 7,
   "id": "71e33659",
   "metadata": {
    "execution": {
     "iopub.execute_input": "2022-05-07T01:37:52.890412Z",
     "iopub.status.busy": "2022-05-07T01:37:52.889710Z",
     "iopub.status.idle": "2022-05-07T01:37:52.906471Z",
     "shell.execute_reply": "2022-05-07T01:37:52.905855Z",
     "shell.execute_reply.started": "2022-05-07T01:02:59.982066Z"
    },
    "papermill": {
     "duration": 0.054047,
     "end_time": "2022-05-07T01:37:52.906618",
     "exception": false,
     "start_time": "2022-05-07T01:37:52.852571",
     "status": "completed"
    },
    "tags": []
   },
   "outputs": [
    {
     "data": {
      "text/plain": [
       "6.0606060606060606"
      ]
     },
     "execution_count": 7,
     "metadata": {},
     "output_type": "execute_result"
    }
   ],
   "source": [
    "len(df[df['category']=='expert'])/34551*100"
   ]
  },
  {
   "cell_type": "markdown",
   "id": "b566f910",
   "metadata": {
    "papermill": {
     "duration": 0.033247,
     "end_time": "2022-05-07T01:37:52.970668",
     "exception": false,
     "start_time": "2022-05-07T01:37:52.937421",
     "status": "completed"
    },
    "tags": []
   },
   "source": [
    "## 5) Who has written most number of articles after GeeksforGeeks?"
   ]
  },
  {
   "cell_type": "code",
   "execution_count": 8,
   "id": "8a798da9",
   "metadata": {
    "execution": {
     "iopub.execute_input": "2022-05-07T01:37:53.036599Z",
     "iopub.status.busy": "2022-05-07T01:37:53.035516Z",
     "iopub.status.idle": "2022-05-07T01:37:53.055630Z",
     "shell.execute_reply": "2022-05-07T01:37:53.056236Z",
     "shell.execute_reply.started": "2022-05-07T01:02:59.996687Z"
    },
    "papermill": {
     "duration": 0.053699,
     "end_time": "2022-05-07T01:37:53.056418",
     "exception": false,
     "start_time": "2022-05-07T01:37:53.002719",
     "status": "completed"
    },
    "scrolled": true,
    "tags": []
   },
   "outputs": [
    {
     "data": {
      "text/plain": [
       "author_id\n",
       "GeeksforGeeks    11957\n",
       "ManasChhabra2      317\n",
       "Striver            265\n",
       "manjeet_04         246\n",
       "Chinmoy Lenka      192\n",
       "dtype: int64"
      ]
     },
     "execution_count": 8,
     "metadata": {},
     "output_type": "execute_result"
    }
   ],
   "source": [
    "df.groupby('author_id').size().sort_values(ascending=False).head()"
   ]
  },
  {
   "cell_type": "markdown",
   "id": "a2222091",
   "metadata": {
    "papermill": {
     "duration": 0.028105,
     "end_time": "2022-05-07T01:37:53.112817",
     "exception": false,
     "start_time": "2022-05-07T01:37:53.084712",
     "status": "completed"
    },
    "tags": []
   },
   "source": [
    "### therefore, ManasChhabra2 has written most number of articles after GeeksforGeeks"
   ]
  },
  {
   "cell_type": "markdown",
   "id": "d72096fd",
   "metadata": {
    "papermill": {
     "duration": 0.028352,
     "end_time": "2022-05-07T01:37:53.169709",
     "exception": false,
     "start_time": "2022-05-07T01:37:53.141357",
     "status": "completed"
    },
    "tags": []
   },
   "source": [
    "## 6) Who has written most number of articles in Expert Category after GeeksforGeeks?"
   ]
  },
  {
   "cell_type": "code",
   "execution_count": 9,
   "id": "47775d87",
   "metadata": {
    "execution": {
     "iopub.execute_input": "2022-05-07T01:37:53.231399Z",
     "iopub.status.busy": "2022-05-07T01:37:53.230360Z",
     "iopub.status.idle": "2022-05-07T01:37:53.247378Z",
     "shell.execute_reply": "2022-05-07T01:37:53.247969Z",
     "shell.execute_reply.started": "2022-05-07T01:03:00.02669Z"
    },
    "papermill": {
     "duration": 0.049997,
     "end_time": "2022-05-07T01:37:53.248176",
     "exception": false,
     "start_time": "2022-05-07T01:37:53.198179",
     "status": "completed"
    },
    "scrolled": true,
    "tags": []
   },
   "outputs": [
    {
     "data": {
      "text/plain": [
       "author_id\n",
       "GeeksforGeeks      285\n",
       "mishrapriyank17     36\n",
       "pintusaini          34\n",
       "harkiran78          24\n",
       "zack_aayush         22\n",
       "                  ... \n",
       "chanduat24work       1\n",
       "chenchen98           1\n",
       "chetangarg1905       1\n",
       "chitrankmishra       1\n",
       "zyeshwanth           1\n",
       "Length: 840, dtype: int64"
      ]
     },
     "execution_count": 9,
     "metadata": {},
     "output_type": "execute_result"
    }
   ],
   "source": [
    "df_new=df[df['category']=='expert']\n",
    "df_new.groupby('author_id').size().sort_values(ascending=False)"
   ]
  },
  {
   "cell_type": "markdown",
   "id": "4d3a5929",
   "metadata": {
    "papermill": {
     "duration": 0.029753,
     "end_time": "2022-05-07T01:37:53.307576",
     "exception": false,
     "start_time": "2022-05-07T01:37:53.277823",
     "status": "completed"
    },
    "tags": []
   },
   "source": [
    "### so, mishrapriyank17 has written the most number of articles in expert category after gfg"
   ]
  },
  {
   "cell_type": "code",
   "execution_count": 10,
   "id": "395d7c4f",
   "metadata": {
    "execution": {
     "iopub.execute_input": "2022-05-07T01:37:53.371001Z",
     "iopub.status.busy": "2022-05-07T01:37:53.369960Z",
     "iopub.status.idle": "2022-05-07T01:37:53.381409Z",
     "shell.execute_reply": "2022-05-07T01:37:53.382027Z",
     "shell.execute_reply.started": "2022-05-07T01:03:00.050815Z"
    },
    "papermill": {
     "duration": 0.043649,
     "end_time": "2022-05-07T01:37:53.382218",
     "exception": false,
     "start_time": "2022-05-07T01:37:53.338569",
     "status": "completed"
    },
    "tags": []
   },
   "outputs": [
    {
     "data": {
      "text/html": [
       "<div>\n",
       "<style scoped>\n",
       "    .dataframe tbody tr th:only-of-type {\n",
       "        vertical-align: middle;\n",
       "    }\n",
       "\n",
       "    .dataframe tbody tr th {\n",
       "        vertical-align: top;\n",
       "    }\n",
       "\n",
       "    .dataframe thead th {\n",
       "        text-align: right;\n",
       "    }\n",
       "</style>\n",
       "<table border=\"1\" class=\"dataframe\">\n",
       "  <thead>\n",
       "    <tr style=\"text-align: right;\">\n",
       "      <th></th>\n",
       "      <th>title</th>\n",
       "      <th>author_id</th>\n",
       "      <th>last_updated</th>\n",
       "      <th>link</th>\n",
       "      <th>category</th>\n",
       "    </tr>\n",
       "  </thead>\n",
       "  <tbody>\n",
       "    <tr>\n",
       "      <th>0</th>\n",
       "      <td>5 Best Practices For Writing SQL Joins</td>\n",
       "      <td>priyankab14</td>\n",
       "      <td>21 Feb, 2022</td>\n",
       "      <td>https://www.geeksforgeeks.org/5-best-practices...</td>\n",
       "      <td>easy</td>\n",
       "    </tr>\n",
       "    <tr>\n",
       "      <th>1</th>\n",
       "      <td>Foundation CSS Dropdown Menu</td>\n",
       "      <td>ishankhandelwals</td>\n",
       "      <td>20 Feb, 2022</td>\n",
       "      <td>https://www.geeksforgeeks.org/foundation-css-d...</td>\n",
       "      <td>easy</td>\n",
       "    </tr>\n",
       "    <tr>\n",
       "      <th>2</th>\n",
       "      <td>Top 20 Excel Shortcuts That You Need To Know</td>\n",
       "      <td>priyankab14</td>\n",
       "      <td>17 Feb, 2022</td>\n",
       "      <td>https://www.geeksforgeeks.org/top-20-excel-sho...</td>\n",
       "      <td>easy</td>\n",
       "    </tr>\n",
       "    <tr>\n",
       "      <th>3</th>\n",
       "      <td>Servlet – Fetching Result</td>\n",
       "      <td>nishatiwari1719</td>\n",
       "      <td>17 Feb, 2022</td>\n",
       "      <td>https://www.geeksforgeeks.org/servlet-fetching...</td>\n",
       "      <td>easy</td>\n",
       "    </tr>\n",
       "    <tr>\n",
       "      <th>4</th>\n",
       "      <td>Suffix Sum Array</td>\n",
       "      <td>rohit768</td>\n",
       "      <td>21 Feb, 2022</td>\n",
       "      <td>https://www.geeksforgeeks.org/suffix-sum-array/</td>\n",
       "      <td>easy</td>\n",
       "    </tr>\n",
       "  </tbody>\n",
       "</table>\n",
       "</div>"
      ],
      "text/plain": [
       "                                          title         author_id  \\\n",
       "0        5 Best Practices For Writing SQL Joins       priyankab14   \n",
       "1                  Foundation CSS Dropdown Menu  ishankhandelwals   \n",
       "2  Top 20 Excel Shortcuts That You Need To Know       priyankab14   \n",
       "3                     Servlet – Fetching Result   nishatiwari1719   \n",
       "4                              Suffix Sum Array          rohit768   \n",
       "\n",
       "   last_updated                                               link category  \n",
       "0  21 Feb, 2022  https://www.geeksforgeeks.org/5-best-practices...     easy  \n",
       "1  20 Feb, 2022  https://www.geeksforgeeks.org/foundation-css-d...     easy  \n",
       "2  17 Feb, 2022  https://www.geeksforgeeks.org/top-20-excel-sho...     easy  \n",
       "3  17 Feb, 2022  https://www.geeksforgeeks.org/servlet-fetching...     easy  \n",
       "4  21 Feb, 2022    https://www.geeksforgeeks.org/suffix-sum-array/     easy  "
      ]
     },
     "execution_count": 10,
     "metadata": {},
     "output_type": "execute_result"
    }
   ],
   "source": [
    "df.head()"
   ]
  },
  {
   "cell_type": "code",
   "execution_count": 11,
   "id": "7980a451",
   "metadata": {
    "execution": {
     "iopub.execute_input": "2022-05-07T01:37:53.444899Z",
     "iopub.status.busy": "2022-05-07T01:37:53.443910Z",
     "iopub.status.idle": "2022-05-07T01:37:53.526548Z",
     "shell.execute_reply": "2022-05-07T01:37:53.525916Z",
     "shell.execute_reply.started": "2022-05-07T01:03:00.067662Z"
    },
    "papermill": {
     "duration": 0.115093,
     "end_time": "2022-05-07T01:37:53.526691",
     "exception": false,
     "start_time": "2022-05-07T01:37:53.411598",
     "status": "completed"
    },
    "tags": []
   },
   "outputs": [],
   "source": [
    "date=[]\n",
    "year=[]\n",
    "for i in range(len(data)):\n",
    "    if ',' in data[i][2]:\n",
    "        date.append(data[i][2].split(',')[0])\n",
    "        year.append(data[i][2].split(',')[1])\n",
    "    else:\n",
    "        date.append(' ')\n",
    "        year.append(' ')\n",
    "\n",
    "    "
   ]
  },
  {
   "cell_type": "code",
   "execution_count": 12,
   "id": "029c55a4",
   "metadata": {
    "execution": {
     "iopub.execute_input": "2022-05-07T01:37:53.590646Z",
     "iopub.status.busy": "2022-05-07T01:37:53.589939Z",
     "iopub.status.idle": "2022-05-07T01:37:53.611702Z",
     "shell.execute_reply": "2022-05-07T01:37:53.612226Z",
     "shell.execute_reply.started": "2022-05-07T01:05:46.272781Z"
    },
    "papermill": {
     "duration": 0.056475,
     "end_time": "2022-05-07T01:37:53.612417",
     "exception": false,
     "start_time": "2022-05-07T01:37:53.555942",
     "status": "completed"
    },
    "tags": []
   },
   "outputs": [
    {
     "data": {
      "text/html": [
       "<div>\n",
       "<style scoped>\n",
       "    .dataframe tbody tr th:only-of-type {\n",
       "        vertical-align: middle;\n",
       "    }\n",
       "\n",
       "    .dataframe tbody tr th {\n",
       "        vertical-align: top;\n",
       "    }\n",
       "\n",
       "    .dataframe thead th {\n",
       "        text-align: right;\n",
       "    }\n",
       "</style>\n",
       "<table border=\"1\" class=\"dataframe\">\n",
       "  <thead>\n",
       "    <tr style=\"text-align: right;\">\n",
       "      <th></th>\n",
       "      <th>title</th>\n",
       "      <th>author_id</th>\n",
       "      <th>last_updated</th>\n",
       "      <th>link</th>\n",
       "      <th>category</th>\n",
       "      <th>date</th>\n",
       "      <th>year</th>\n",
       "    </tr>\n",
       "  </thead>\n",
       "  <tbody>\n",
       "    <tr>\n",
       "      <th>0</th>\n",
       "      <td>5 Best Practices For Writing SQL Joins</td>\n",
       "      <td>priyankab14</td>\n",
       "      <td>21 Feb, 2022</td>\n",
       "      <td>https://www.geeksforgeeks.org/5-best-practices...</td>\n",
       "      <td>easy</td>\n",
       "      <td>21 Feb</td>\n",
       "      <td>2022</td>\n",
       "    </tr>\n",
       "    <tr>\n",
       "      <th>1</th>\n",
       "      <td>Foundation CSS Dropdown Menu</td>\n",
       "      <td>ishankhandelwals</td>\n",
       "      <td>20 Feb, 2022</td>\n",
       "      <td>https://www.geeksforgeeks.org/foundation-css-d...</td>\n",
       "      <td>easy</td>\n",
       "      <td>20 Feb</td>\n",
       "      <td>2022</td>\n",
       "    </tr>\n",
       "    <tr>\n",
       "      <th>2</th>\n",
       "      <td>Top 20 Excel Shortcuts That You Need To Know</td>\n",
       "      <td>priyankab14</td>\n",
       "      <td>17 Feb, 2022</td>\n",
       "      <td>https://www.geeksforgeeks.org/top-20-excel-sho...</td>\n",
       "      <td>easy</td>\n",
       "      <td>17 Feb</td>\n",
       "      <td>2022</td>\n",
       "    </tr>\n",
       "    <tr>\n",
       "      <th>3</th>\n",
       "      <td>Servlet – Fetching Result</td>\n",
       "      <td>nishatiwari1719</td>\n",
       "      <td>17 Feb, 2022</td>\n",
       "      <td>https://www.geeksforgeeks.org/servlet-fetching...</td>\n",
       "      <td>easy</td>\n",
       "      <td>17 Feb</td>\n",
       "      <td>2022</td>\n",
       "    </tr>\n",
       "    <tr>\n",
       "      <th>4</th>\n",
       "      <td>Suffix Sum Array</td>\n",
       "      <td>rohit768</td>\n",
       "      <td>21 Feb, 2022</td>\n",
       "      <td>https://www.geeksforgeeks.org/suffix-sum-array/</td>\n",
       "      <td>easy</td>\n",
       "      <td>21 Feb</td>\n",
       "      <td>2022</td>\n",
       "    </tr>\n",
       "  </tbody>\n",
       "</table>\n",
       "</div>"
      ],
      "text/plain": [
       "                                          title         author_id  \\\n",
       "0        5 Best Practices For Writing SQL Joins       priyankab14   \n",
       "1                  Foundation CSS Dropdown Menu  ishankhandelwals   \n",
       "2  Top 20 Excel Shortcuts That You Need To Know       priyankab14   \n",
       "3                     Servlet – Fetching Result   nishatiwari1719   \n",
       "4                              Suffix Sum Array          rohit768   \n",
       "\n",
       "   last_updated                                               link category  \\\n",
       "0  21 Feb, 2022  https://www.geeksforgeeks.org/5-best-practices...     easy   \n",
       "1  20 Feb, 2022  https://www.geeksforgeeks.org/foundation-css-d...     easy   \n",
       "2  17 Feb, 2022  https://www.geeksforgeeks.org/top-20-excel-sho...     easy   \n",
       "3  17 Feb, 2022  https://www.geeksforgeeks.org/servlet-fetching...     easy   \n",
       "4  21 Feb, 2022    https://www.geeksforgeeks.org/suffix-sum-array/     easy   \n",
       "\n",
       "     date   year  \n",
       "0  21 Feb   2022  \n",
       "1  20 Feb   2022  \n",
       "2  17 Feb   2022  \n",
       "3  17 Feb   2022  \n",
       "4  21 Feb   2022  "
      ]
     },
     "execution_count": 12,
     "metadata": {},
     "output_type": "execute_result"
    }
   ],
   "source": [
    "df['date']=date\n",
    "df['year']=year\n",
    "df.head()"
   ]
  },
  {
   "cell_type": "code",
   "execution_count": 13,
   "id": "589ea979",
   "metadata": {
    "execution": {
     "iopub.execute_input": "2022-05-07T01:37:53.715762Z",
     "iopub.status.busy": "2022-05-07T01:37:53.694963Z",
     "iopub.status.idle": "2022-05-07T01:37:53.737608Z",
     "shell.execute_reply": "2022-05-07T01:37:53.736930Z",
     "shell.execute_reply.started": "2022-05-07T01:08:59.924864Z"
    },
    "papermill": {
     "duration": 0.095528,
     "end_time": "2022-05-07T01:37:53.737750",
     "exception": false,
     "start_time": "2022-05-07T01:37:53.642222",
     "status": "completed"
    },
    "tags": []
   },
   "outputs": [
    {
     "data": {
      "text/html": [
       "<div>\n",
       "<style scoped>\n",
       "    .dataframe tbody tr th:only-of-type {\n",
       "        vertical-align: middle;\n",
       "    }\n",
       "\n",
       "    .dataframe tbody tr th {\n",
       "        vertical-align: top;\n",
       "    }\n",
       "\n",
       "    .dataframe thead th {\n",
       "        text-align: right;\n",
       "    }\n",
       "</style>\n",
       "<table border=\"1\" class=\"dataframe\">\n",
       "  <thead>\n",
       "    <tr style=\"text-align: right;\">\n",
       "      <th></th>\n",
       "      <th>title</th>\n",
       "      <th>author_id</th>\n",
       "      <th>last_updated</th>\n",
       "      <th>link</th>\n",
       "      <th>category</th>\n",
       "      <th>date</th>\n",
       "      <th>year</th>\n",
       "      <th>month</th>\n",
       "    </tr>\n",
       "  </thead>\n",
       "  <tbody>\n",
       "    <tr>\n",
       "      <th>0</th>\n",
       "      <td>5 Best Practices For Writing SQL Joins</td>\n",
       "      <td>priyankab14</td>\n",
       "      <td>21 Feb, 2022</td>\n",
       "      <td>https://www.geeksforgeeks.org/5-best-practices...</td>\n",
       "      <td>easy</td>\n",
       "      <td>21 Feb</td>\n",
       "      <td>2022</td>\n",
       "      <td>Feb</td>\n",
       "    </tr>\n",
       "    <tr>\n",
       "      <th>1</th>\n",
       "      <td>Foundation CSS Dropdown Menu</td>\n",
       "      <td>ishankhandelwals</td>\n",
       "      <td>20 Feb, 2022</td>\n",
       "      <td>https://www.geeksforgeeks.org/foundation-css-d...</td>\n",
       "      <td>easy</td>\n",
       "      <td>20 Feb</td>\n",
       "      <td>2022</td>\n",
       "      <td>Feb</td>\n",
       "    </tr>\n",
       "    <tr>\n",
       "      <th>2</th>\n",
       "      <td>Top 20 Excel Shortcuts That You Need To Know</td>\n",
       "      <td>priyankab14</td>\n",
       "      <td>17 Feb, 2022</td>\n",
       "      <td>https://www.geeksforgeeks.org/top-20-excel-sho...</td>\n",
       "      <td>easy</td>\n",
       "      <td>17 Feb</td>\n",
       "      <td>2022</td>\n",
       "      <td>Feb</td>\n",
       "    </tr>\n",
       "    <tr>\n",
       "      <th>3</th>\n",
       "      <td>Servlet – Fetching Result</td>\n",
       "      <td>nishatiwari1719</td>\n",
       "      <td>17 Feb, 2022</td>\n",
       "      <td>https://www.geeksforgeeks.org/servlet-fetching...</td>\n",
       "      <td>easy</td>\n",
       "      <td>17 Feb</td>\n",
       "      <td>2022</td>\n",
       "      <td>Feb</td>\n",
       "    </tr>\n",
       "    <tr>\n",
       "      <th>4</th>\n",
       "      <td>Suffix Sum Array</td>\n",
       "      <td>rohit768</td>\n",
       "      <td>21 Feb, 2022</td>\n",
       "      <td>https://www.geeksforgeeks.org/suffix-sum-array/</td>\n",
       "      <td>easy</td>\n",
       "      <td>21 Feb</td>\n",
       "      <td>2022</td>\n",
       "      <td>Feb</td>\n",
       "    </tr>\n",
       "  </tbody>\n",
       "</table>\n",
       "</div>"
      ],
      "text/plain": [
       "                                          title         author_id  \\\n",
       "0        5 Best Practices For Writing SQL Joins       priyankab14   \n",
       "1                  Foundation CSS Dropdown Menu  ishankhandelwals   \n",
       "2  Top 20 Excel Shortcuts That You Need To Know       priyankab14   \n",
       "3                     Servlet – Fetching Result   nishatiwari1719   \n",
       "4                              Suffix Sum Array          rohit768   \n",
       "\n",
       "   last_updated                                               link category  \\\n",
       "0  21 Feb, 2022  https://www.geeksforgeeks.org/5-best-practices...     easy   \n",
       "1  20 Feb, 2022  https://www.geeksforgeeks.org/foundation-css-d...     easy   \n",
       "2  17 Feb, 2022  https://www.geeksforgeeks.org/top-20-excel-sho...     easy   \n",
       "3  17 Feb, 2022  https://www.geeksforgeeks.org/servlet-fetching...     easy   \n",
       "4  21 Feb, 2022    https://www.geeksforgeeks.org/suffix-sum-array/     easy   \n",
       "\n",
       "     date   year month  \n",
       "0  21 Feb   2022   Feb  \n",
       "1  20 Feb   2022   Feb  \n",
       "2  17 Feb   2022   Feb  \n",
       "3  17 Feb   2022   Feb  \n",
       "4  21 Feb   2022   Feb  "
      ]
     },
     "execution_count": 13,
     "metadata": {},
     "output_type": "execute_result"
    }
   ],
   "source": [
    "data=df.values\n",
    "month=[]\n",
    "for i in range(len(data)):\n",
    "    month.append(data[i][5].split(' ')[1])\n",
    "df['month']=month\n",
    "df.head()"
   ]
  },
  {
   "cell_type": "markdown",
   "id": "4814ed6a",
   "metadata": {
    "papermill": {
     "duration": 0.031111,
     "end_time": "2022-05-07T01:37:53.800404",
     "exception": false,
     "start_time": "2022-05-07T01:37:53.769293",
     "status": "completed"
    },
    "tags": []
   },
   "source": [
    "## 7) Which day of July has most number of articles published?"
   ]
  },
  {
   "cell_type": "code",
   "execution_count": 14,
   "id": "1183ecba",
   "metadata": {
    "execution": {
     "iopub.execute_input": "2022-05-07T01:37:53.879906Z",
     "iopub.status.busy": "2022-05-07T01:37:53.873395Z",
     "iopub.status.idle": "2022-05-07T01:37:53.898655Z",
     "shell.execute_reply": "2022-05-07T01:37:53.899167Z",
     "shell.execute_reply.started": "2022-05-07T01:12:00.302148Z"
    },
    "papermill": {
     "duration": 0.06853,
     "end_time": "2022-05-07T01:37:53.899358",
     "exception": false,
     "start_time": "2022-05-07T01:37:53.830828",
     "status": "completed"
    },
    "tags": []
   },
   "outputs": [
    {
     "data": {
      "text/plain": [
       "last_updated\n",
       "07 Jul, 2021    139\n",
       "06 Jul, 2021    108\n",
       "01 Jul, 2021     73\n",
       "22 Jul, 2021     70\n",
       "02 Jul, 2021     70\n",
       "dtype: int64"
      ]
     },
     "execution_count": 14,
     "metadata": {},
     "output_type": "execute_result"
    }
   ],
   "source": [
    "df_new=df[df['month']=='Jul']\n",
    "df_new.groupby('last_updated').size().sort_values(ascending=False).head()"
   ]
  },
  {
   "cell_type": "markdown",
   "id": "482dd0b0",
   "metadata": {
    "papermill": {
     "duration": 0.031078,
     "end_time": "2022-05-07T01:37:53.962703",
     "exception": false,
     "start_time": "2022-05-07T01:37:53.931625",
     "status": "completed"
    },
    "tags": []
   },
   "source": [
    "## 8) Which month has least number of articles published?"
   ]
  },
  {
   "cell_type": "code",
   "execution_count": 15,
   "id": "98f1d0b9",
   "metadata": {
    "execution": {
     "iopub.execute_input": "2022-05-07T01:37:54.032249Z",
     "iopub.status.busy": "2022-05-07T01:37:54.031562Z",
     "iopub.status.idle": "2022-05-07T01:37:54.040009Z",
     "shell.execute_reply": "2022-05-07T01:37:54.039341Z",
     "shell.execute_reply.started": "2022-05-07T01:15:30.133507Z"
    },
    "papermill": {
     "duration": 0.046441,
     "end_time": "2022-05-07T01:37:54.040171",
     "exception": false,
     "start_time": "2022-05-07T01:37:53.993730",
     "status": "completed"
    },
    "scrolled": true,
    "tags": []
   },
   "outputs": [
    {
     "data": {
      "text/plain": [
       "month\n",
       "         96\n",
       "Mar    1510\n",
       "Apr    2318\n",
       "Dec    2674\n",
       "Feb    2716\n",
       "Oct    2775\n",
       "Jul    2823\n",
       "Sep    2918\n",
       "Nov    2932\n",
       "Aug    3192\n",
       "Jan    3206\n",
       "May    3331\n",
       "Jun    4060\n",
       "dtype: int64"
      ]
     },
     "execution_count": 15,
     "metadata": {},
     "output_type": "execute_result"
    }
   ],
   "source": [
    "df.groupby('month').size().sort_values()\n",
    "#ans:march"
   ]
  },
  {
   "cell_type": "markdown",
   "id": "f5a0d274",
   "metadata": {
    "papermill": {
     "duration": 0.031308,
     "end_time": "2022-05-07T01:37:54.103141",
     "exception": false,
     "start_time": "2022-05-07T01:37:54.071833",
     "status": "completed"
    },
    "tags": []
   },
   "source": [
    "## 9) Growth Rate of articles written 2021 as compare to 2020?"
   ]
  },
  {
   "cell_type": "code",
   "execution_count": 16,
   "id": "f7518361",
   "metadata": {
    "execution": {
     "iopub.execute_input": "2022-05-07T01:37:54.169615Z",
     "iopub.status.busy": "2022-05-07T01:37:54.168777Z",
     "iopub.status.idle": "2022-05-07T01:37:54.185628Z",
     "shell.execute_reply": "2022-05-07T01:37:54.184742Z",
     "shell.execute_reply.started": "2022-05-07T01:18:41.641794Z"
    },
    "papermill": {
     "duration": 0.050834,
     "end_time": "2022-05-07T01:37:54.185840",
     "exception": false,
     "start_time": "2022-05-07T01:37:54.135006",
     "status": "completed"
    },
    "tags": []
   },
   "outputs": [
    {
     "name": "stdout",
     "output_type": "stream",
     "text": [
      "13988\n",
      "year\n",
      " 2010        1\n",
      " 2011        1\n",
      " 2012        5\n",
      " 2014       53\n",
      " 2013       70\n",
      "            96\n",
      " 2015      172\n",
      " 2016      200\n",
      " 2017     1021\n",
      " 2018     2522\n",
      " 2022     3187\n",
      " 2019     3985\n",
      " 2020     4625\n",
      " 2021    18613\n",
      "dtype: int64\n"
     ]
    }
   ],
   "source": [
    "out=df.groupby('year').size().sort_values()\n",
    "print(18613-4625)\n",
    "print(out)"
   ]
  },
  {
   "cell_type": "markdown",
   "id": "7df26e2a",
   "metadata": {
    "papermill": {
     "duration": 0.03122,
     "end_time": "2022-05-07T01:37:54.249786",
     "exception": false,
     "start_time": "2022-05-07T01:37:54.218566",
     "status": "completed"
    },
    "tags": []
   },
   "source": [
    "### 13988 more articles were written in 2021 as compare to 2020"
   ]
  },
  {
   "cell_type": "code",
   "execution_count": 17,
   "id": "5aec8114",
   "metadata": {
    "execution": {
     "iopub.execute_input": "2022-05-07T01:37:54.317812Z",
     "iopub.status.busy": "2022-05-07T01:37:54.317099Z",
     "iopub.status.idle": "2022-05-07T01:37:54.641035Z",
     "shell.execute_reply": "2022-05-07T01:37:54.641558Z",
     "shell.execute_reply.started": "2022-05-07T01:24:20.037471Z"
    },
    "papermill": {
     "duration": 0.360096,
     "end_time": "2022-05-07T01:37:54.641730",
     "exception": false,
     "start_time": "2022-05-07T01:37:54.281634",
     "status": "completed"
    },
    "tags": []
   },
   "outputs": [
    {
     "data": {
      "text/plain": [
       "<AxesSubplot:xlabel='year'>"
      ]
     },
     "execution_count": 17,
     "metadata": {},
     "output_type": "execute_result"
    },
    {
     "data": {
      "image/png": "[encoded data removed]",
      "text/plain": [
       "<Figure size 432x288 with 1 Axes>"
      ]
     },
     "metadata": {
      "needs_background": "light"
     },
     "output_type": "display_data"
    }
   ],
   "source": [
    "df.groupby('year').size().sort_values().plot(kind='bar')"
   ]
  }
 ],
 "metadata": {
  "kernelspec": {
   "display_name": "Python 3",
   "language": "python",
   "name": "python3"
  },
  "language_info": {
   "codemirror_mode": {
    "name": "ipython",
    "version": 3
   },
   "file_extension": ".py",
   "mimetype": "text/x-python",
   "name": "python",
   "nbconvert_exporter": "python",
   "pygments_lexer": "ipython3",
   "version": "3.7.12"
  },
  "papermill": {
   "default_parameters": {},
   "duration": 13.711228,
   "end_time": "2022-05-07T01:37:55.385510",
   "environment_variables": {},
   "exception": null,
   "input_path": "__notebook__.ipynb",
   "output_path": "__notebook__.ipynb",
   "parameters": {},
   "start_time": "2022-05-07T01:37:41.674282",
   "version": "2.3.3"
  }
 },
 "nbformat": 4,
 "nbformat_minor": 5
}
